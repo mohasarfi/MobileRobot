{
 "cells": [
  {
   "cell_type": "code",
   "execution_count": 1,
   "metadata": {},
   "outputs": [],
   "source": [
    "import numpy as np \n",
    "import matplotlib.pyplot as plt\n",
    "from config import rmax , aplha , beta\n",
    "\n",
    "\n",
    "class Sensor:\n",
    "    def __init__(self, robot_position, map_matrix):\n",
    "        \"\"\"Initialize sensors.\n",
    "        \n",
    "        Params\n",
    "        ======\n",
    "            robot_position (tuple): [y_robot, x_robot, theta_robot]\n",
    "            map_matrix (numpy array): matrix representing the map\n",
    "        \"\"\"\n",
    "        self.fov = np.pi\n",
    "        self.angle_step = 0.008\n",
    "        self.measure_phi = np.linspace(-self.fov, self.fov, self.angle_step)\n",
    "        self.rmax = rmax\n",
    "        self.robot_position = robot_position\n",
    "        self.map_matrix = map_matrix\n",
    "        self.map_height, self.map_widht = map_matrix.shape\n",
    "    \n",
    "    def get_LIDAR_measurement(self):\n",
    "        \"\"\"Simulate LIDAR measurement.\n",
    "        \n",
    "        Returns\n",
    "        =======\n",
    "            (numpy array): array of range measurements\n",
    "        \"\"\"\n",
    "        height, width = self.map_matrix.shape\n",
    "        meas_phi = np.linspace(-self.fov/2, self.fov/2, 9)\n",
    "        meas_r = rmax * np.ones(meas_phi.shape)\n",
    "\n",
    "        # Vectorized computation of cell coordinates\n",
    "        r_values = np.arange(2, rmax)\n",
    "        xi = self.robot_position[1] + np.outer(r_values, np.cos(self.robot_position[2] + meas_phi)).astype(int)\n",
    "        yi = self.robot_position[0] + np.outer(r_values, np.sin(self.robot_position[2] + meas_phi)).astype(int)\n",
    "\n",
    "        # Mask for valid coordinates\n",
    "        valid_mask = (xi >= 0) & (xi < height) & (yi >= 0) & (yi < width)\n",
    "\n",
    "        # Map look-up\n",
    "        for i in range(len(meas_phi)):\n",
    "            valid_cells = valid_mask[:, i]\n",
    "            xi_valid = xi[valid_cells, i]\n",
    "            yi_valid = yi[valid_cells, i]\n",
    "\n",
    "            # Find the first occupied cell or out-of-bound\n",
    "            occupied_cells = (self.map_matrix[yi_valid, xi_valid] == 1)\n",
    "            if occupied_cells.any():\n",
    "                meas_r[i] = r_values[valid_cells][occupied_cells.argmax()]\n",
    "            else:\n",
    "                meas_r[i] = r_values[valid_cells][-1] if valid_cells.any() else rmax\n",
    "        return meas_r\n"
   ]
  }
 ],
 "metadata": {
  "kernelspec": {
   "display_name": "DRL101",
   "language": "python",
   "name": "python3"
  },
  "language_info": {
   "codemirror_mode": {
    "name": "ipython",
    "version": 3
   },
   "file_extension": ".py",
   "mimetype": "text/x-python",
   "name": "python",
   "nbconvert_exporter": "python",
   "pygments_lexer": "ipython3",
   "version": "3.12.4"
  },
  "orig_nbformat": 4,
  "vscode": {
   "interpreter": {
    "hash": "e86b09bf04b4b28f13f8ff5e5d79a92a454be138b2dde21e7db36bb9d1dc0d8c"
   }
  }
 },
 "nbformat": 4,
 "nbformat_minor": 2
}
