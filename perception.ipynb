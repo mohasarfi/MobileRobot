{
 "cells": [
  {
   "cell_type": "code",
   "execution_count": 12,
   "metadata": {},
   "outputs": [
    {
     "data": {
      "image/png": "[encoded data removed]",
      "text/plain": [
       "<Figure size 500x500 with 1 Axes>"
      ]
     },
     "metadata": {},
     "output_type": "display_data"
    }
   ],
   "source": [
    "import numpy as np \n",
    "import matplotlib.pyplot as plt\n",
    "from config import rmax , aplha , beta\n",
    "\n",
    "\n",
    "class Sensor:\n",
    "    def __init__(self, robot_position, map_matrix):\n",
    "        \"\"\"Initialize sensors.\n",
    "        \n",
    "        Params\n",
    "        ======\n",
    "            robot_position (tuple): [y_robot, x_robot, theta_robot]\n",
    "            map_matrix (numpy array): matrix representing the map\n",
    "        \"\"\"\n",
    "        self.fov = np.pi\n",
    "        self.angle_step = 0.008\n",
    "        self.meas_phi = np.arange(0, 2*self.fov, self.angle_step)\n",
    "        self.rmax = rmax\n",
    "        self.robot_position = robot_position\n",
    "        self.map_matrix = map_matrix\n",
    "        self.map_height, self.map_width = map_matrix.shape\n",
    "\n",
    "    def get_LIDAR_measurement(self):\n",
    "        meas_r = np.ones(self.meas_phi.shape)\n",
    "        for i in range(len(self.meas_phi)):\n",
    "            for r in range(1,rmax):\n",
    "                x_i = self.robot_position[1] + (r*np.cos(self.robot_position[2]+meas_phi[i])).astype(int)\n",
    "                y_i = self.robot_position[0] + (r*np.sin(self.robot_position[2]+meas_phi[i])).astype(int)\n",
    "                if (x_i >= 0) & (x_i < self.map_width ) & (y_i >= 0) & (y_i < self.map_height):\n",
    "                    if self.map_matrix[y_i,x_i] == 1:\n",
    "                        break\n",
    "                    meas_r[i] = r\n",
    "        return meas_r\n",
    "\n",
    "\n",
    "from map_generator import Map_Generator \n",
    "generator = Map_Generator(42)\n",
    "map_matrix = generator.ref_map()\n",
    "\n",
    "\n",
    "robot_position = [25,20,0]\n",
    "\n",
    "LIDAR = Sensor(robot_position,map_matrix)\n",
    "meas_r = LIDAR.get_LIDAR_measurement()\n",
    "meas_phi = np.arange(0,2*np.pi,0.008)\n",
    "\n",
    "\n",
    "\n",
    "x_i = robot_position[1] + (meas_r*np.cos(robot_position[2]+meas_phi)).astype(int)\n",
    "y_i = robot_position[0] + (meas_r*np.sin(robot_position[2]+meas_phi)).astype(int)\n",
    "plt.figure(figsize=(5, 5))\n",
    "plt.imshow(np.subtract(1,map_matrix), cmap='gray', vmin=0, vmax=1,origin='lower')\n",
    "plt.plot(robot_position[1],robot_position[0],'o',color=\"red\",markersize=3)\n",
    "plt.plot(x_i,y_i,'o',color=\"blue\",markersize=1)\n",
    "plt.show()"
   ]
  },
  {
   "cell_type": "code",
   "execution_count": null,
   "metadata": {},
   "outputs": [],
   "source": []
  }
 ],
 "metadata": {
  "kernelspec": {
   "display_name": "DRL101",
   "language": "python",
   "name": "python3"
  },
  "language_info": {
   "codemirror_mode": {
    "name": "ipython",
    "version": 3
   },
   "file_extension": ".py",
   "mimetype": "text/x-python",
   "name": "python",
   "nbconvert_exporter": "python",
   "pygments_lexer": "ipython3",
   "version": "3.12.4"
  },
  "orig_nbformat": 4,
  "vscode": {
   "interpreter": {
    "hash": "e86b09bf04b4b28f13f8ff5e5d79a92a454be138b2dde21e7db36bb9d1dc0d8c"
   }
  }
 },
 "nbformat": 4,
 "nbformat_minor": 2
}
