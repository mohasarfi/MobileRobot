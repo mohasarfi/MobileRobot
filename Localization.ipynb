{
 "cells": [
  {
   "attachments": {},
   "cell_type": "markdown",
   "metadata": {},
   "source": [
    "# Particle Filter \n",
    "This file contains the explanation of the Particle Filter algorithm. The main steps are as follows:\n",
    "1. Initialization --> Creat_uniform_particles function\n",
    "2. Prediction --> Predict function\n",
    "3. Update\n",
    "4. Resampling\n",
    "\n",
    "\n"
   ]
  },
  {
   "cell_type": "code",
   "execution_count": 31,
   "metadata": {},
   "outputs": [
    {
     "name": "stdout",
     "output_type": "stream",
     "text": [
      "[53.88120277083936, -2.0142803718368714, 1.5707963267948972]\n",
      "[5.62500000e+01 3.44431912e-15 1.57079633e+00]\n"
     ]
    },
    {
     "data": {
      "image/png": "[encoded data removed]",
      "text/plain": [
       "<Figure size 1000x1000 with 1 Axes>"
      ]
     },
     "metadata": {},
     "output_type": "display_data"
    }
   ],
   "source": [
    "# importing standard libraries \n",
    "import numpy as np\n",
    "import matplotlib.pyplot as plt\n",
    "from numpy.random import uniform , random\n",
    "from scipy.stats import multivariate_normal\n",
    "from Robot import Diif_Robot\n",
    "\n",
    "def create_uniform_particles(x_range,y_range,hdg_range,N):\n",
    "    \"\"\"\"\n",
    "    Create particles uniformly distributed in a given range.\n",
    "    x_range: tuple (min,max) - map width limits\n",
    "    y_range: tuple (min,max) y - map height limits \n",
    "    hdg_range: tuple (min,max) heading range\n",
    "    N: int\n",
    "    \"\"\"\n",
    "    particles = np.empty((N,3))\n",
    "    particles[:,0] = uniform(y_range[0],y_range[1],size=N)\n",
    "    particles[:,1] = uniform(x_range[0],x_range[1],size=N)\n",
    "    particles[:,2] = uniform(hdg_range[0],hdg_range[1],size=N)\n",
    "    particles[:,2] %= 2 * np.pi\n",
    "\n",
    "    return particles\n",
    "\n",
    "def predict(particles, u, motion_dist, dt):\n",
    "    \"\"\"\"\n",
    "    Predict the position of the particles after a movement command.\n",
    "    particles: 2D numpy array\n",
    "    u: tuple (v,w) - velocity and angular velocity\n",
    "    motion_dist: tuple (alpha1,alpha2,alpha3,alpha4) - motion noise parameters\n",
    "    dt: float - time step\n",
    "    \"\"\"\n",
    "    for i in range(len(particles)):\n",
    "        Motion = Diif_Robot(0.75,0.3/2,particles[i])\n",
    "        # print(\"particles[i,:]\",particles[i,:])\n",
    "        # print(\"Motion.motion_model(u,dt)\",Motion.motion_model(u,dt))\n",
    "        particles[i,:] = Motion.motion_model(u,dt) + motion_dist\n",
    "    return particles\n",
    "\n",
    "def update(particles, y, w , Q):\n",
    "    \"\"\"\n",
    "    Update the weights of the particles using a measurement.\n",
    "    particles: 2D numpy array\n",
    "    y: Robot location (?)\n",
    "    w: numpy array - weights\n",
    "    Q: 2D numpy array - measurement noise\n",
    "    \"\"\"\n",
    "    for i in range(len(particles)):\n",
    "        w[i] = multivariate_normal.pdf(y,mean=particles[i,0:2], cov=Q)\n",
    "    w += 1.e-300\n",
    "    w /= sum(w)\n",
    "\n",
    "    return w\n",
    "\n",
    "def simple_resample(particles, weights):\n",
    "    \"\"\"\n",
    "    Resample particles with a simple method.\n",
    "    particles: 2D numpy array\n",
    "    weights: numpy array\n",
    "    \"\"\"\n",
    "    N = len(particles)\n",
    "    cumulative_sum = np.cumsum(weights)\n",
    "    cumulative_sum[-1] = 1. # avoid round-off error\n",
    "    indexes = np.searchsorted(cumulative_sum, random(N))\n",
    "    # resample according to indexes\n",
    "    particles[:] = particles[indexes]\n",
    "    weights.fill(1.0 / N)\n",
    "\n",
    "    return particles\n",
    "\n",
    "\n",
    "\n",
    "mean_distribution_meas = np.array([0,0])\n",
    "Q = np.array([[0.01,0],[0,0.01]])\n",
    "delta_meas = np.random.multivariate_normal(mean_distribution_meas , Q)\n",
    "\n",
    "\n",
    "#The following function is used to plot the actual position of the robot and particles on the map\n",
    "def creat_plot(particles,state_real,x_lim,y_lim):\n",
    "  f = plt.figure(figsize=(5,5))\n",
    "  # define figure size\n",
    "  ax = f.add_subplot(1, 1, 1)\n",
    "  f.set_figwidth(10)\n",
    "  f.set_figheight(10)\n",
    "  plt.plot(particles[:,1],particles[:,0],'o',label='particles',markersize=30)\n",
    "  plt.plot(state_real[1],state_real[0],'.',label='Real Position of the robot', markersize=30)\n",
    "#   plt.xlim(x_lim[0]*1.2,x_lim[1]*1.2)\n",
    "#   plt.ylim(y_lim[0]*1.2,y_lim[1]*1.2)\n",
    "  plt.legend(loc='upper right')\n",
    "  plt.grid()\n",
    "  plt.show()\n",
    "\n",
    "\n",
    "No_Particles = 1000\n",
    "x_range = (-50,50)\n",
    "y_range = (-50,50)\n",
    "hdg_range = (0, 2*np.pi)\n",
    "robot_state = np.array([0.0,0.0,np.pi/2]) # this is the initial real state of the robot\n",
    "particles = create_uniform_particles(x_range, y_range, hdg_range, No_Particles)\n",
    "\n",
    "## Define robot specification \n",
    "u = np.array([10,0])\n",
    "## Defining epsilon == motion distribution\n",
    "mean_distribution = np.array([0,0,0])\n",
    "var_distribution = 0\n",
    "cov_distribution = 0\n",
    "R = np.array([[var_distribution,cov_distribution,cov_distribution],[cov_distribution,var_distribution,cov_distribution],[cov_distribution,cov_distribution,var_distribution]])\n",
    "motion_dist = np.random.multivariate_normal(mean_distribution , R)\n",
    "\n",
    "dt = 0.1\n",
    "delta_meas = np.array([0.0001,0.0001])\n",
    "w = np.ones(No_Particles)/No_Particles\n",
    "\n",
    "robot_model = Diif_Robot(0.75,0.3/2,robot_state)\n",
    "\n",
    "for i in range(200):\n",
    "    # print(\"particles location average\", [np.mean(particles[:,0]),np.mean(particles[:,1]),np.mean(particles[:,2])])\n",
    "    # print(\"robot state: \",robot_state)\n",
    "    particles = predict(particles,u,motion_dist,dt)\n",
    "\n",
    "    robot_state = robot_model.motion_model(u,dt)\n",
    "    # print(\"robot state after prediction: \",robot_state)\n",
    "    # print(\"particles location average after prediction\", [np.mean(particles[:,0]),np.mean(particles[:,1]),np.mean(particles[:,2])])\n",
    "\n",
    "    # creat_plot(particles,robot_state[0],x_range,y_range)\n",
    "    y = robot_state[0:2] + delta_meas\n",
    "    w = update(particles,y,w,Q)\n",
    "    particles = simple_resample(particles,w)\n",
    "    particles[:,2] = robot_state[2]\n",
    "    # creat_plot(particles,robot_state[0],x_range,y_range)\n",
    "print([np.mean(particles[:,0]),np.mean(particles[:,1]),np.mean(particles[:,2])])\n",
    "print(robot_state)\n",
    "creat_plot(particles,robot_state,x_range,y_range)\n",
    "# print('-------------------')\n",
    "\n"
   ]
  },
  {
   "cell_type": "code",
   "execution_count": 33,
   "metadata": {},
   "outputs": [
    {
     "data": {
      "text/plain": [
       "56.25"
      ]
     },
     "execution_count": 33,
     "metadata": {},
     "output_type": "execute_result"
    }
   ],
   "source": [
    "robot_state[0]"
   ]
  },
  {
   "cell_type": "code",
   "execution_count": 19,
   "metadata": {},
   "outputs": [
    {
     "data": {
      "text/plain": [
       "array([2.81250000e+00, 1.72215956e-16, 1.57079633e+00])"
      ]
     },
     "execution_count": 19,
     "metadata": {},
     "output_type": "execute_result"
    }
   ],
   "source": [
    "robot_state"
   ]
  },
  {
   "cell_type": "code",
   "execution_count": 16,
   "metadata": {},
   "outputs": [
    {
     "data": {
      "text/plain": [
       "array([2.81250000e-01, 1.72215956e-17])"
      ]
     },
     "execution_count": 16,
     "metadata": {},
     "output_type": "execute_result"
    }
   ],
   "source": [
    "robot_state[0:2]"
   ]
  },
  {
   "cell_type": "code",
   "execution_count": null,
   "metadata": {},
   "outputs": [],
   "source": []
  }
 ],
 "metadata": {
  "kernelspec": {
   "display_name": "gym_env",
   "language": "python",
   "name": "python3"
  },
  "language_info": {
   "codemirror_mode": {
    "name": "ipython",
    "version": 3
   },
   "file_extension": ".py",
   "mimetype": "text/x-python",
   "name": "python",
   "nbconvert_exporter": "python",
   "pygments_lexer": "ipython3",
   "version": "3.8.19"
  },
  "orig_nbformat": 4,
  "vscode": {
   "interpreter": {
    "hash": "bc49bab7f3878ba80ad2a65c2525cdc9d74c5f54777f705d73262dece5a900f4"
   }
  }
 },
 "nbformat": 4,
 "nbformat_minor": 2
}
